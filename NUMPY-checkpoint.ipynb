{
 "cells": [
  {
   "cell_type": "code",
   "execution_count": 1,
   "id": "ff054be1",
   "metadata": {},
   "outputs": [],
   "source": [
    "import numpy as np"
   ]
  },
  {
   "cell_type": "code",
   "execution_count": 2,
   "id": "0b413da0",
   "metadata": {},
   "outputs": [],
   "source": [
    "tr1=np.array(4)"
   ]
  },
  {
   "cell_type": "code",
   "execution_count": 3,
   "id": "a236cca4",
   "metadata": {},
   "outputs": [
    {
     "data": {
      "text/plain": [
       "array(4)"
      ]
     },
     "execution_count": 3,
     "metadata": {},
     "output_type": "execute_result"
    }
   ],
   "source": [
    "tr1"
   ]
  },
  {
   "cell_type": "code",
   "execution_count": 4,
   "id": "e0e4ac83",
   "metadata": {},
   "outputs": [
    {
     "data": {
      "text/plain": [
       "numpy.ndarray"
      ]
     },
     "execution_count": 4,
     "metadata": {},
     "output_type": "execute_result"
    }
   ],
   "source": [
    "type(tr1)"
   ]
  },
  {
   "cell_type": "code",
   "execution_count": 5,
   "id": "c8d48cee",
   "metadata": {},
   "outputs": [],
   "source": [
    "tr2=np.array([1,2,3,4])"
   ]
  },
  {
   "cell_type": "code",
   "execution_count": 6,
   "id": "9039cfa2",
   "metadata": {},
   "outputs": [
    {
     "data": {
      "text/plain": [
       "array([1, 2, 3, 4])"
      ]
     },
     "execution_count": 6,
     "metadata": {},
     "output_type": "execute_result"
    }
   ],
   "source": [
    "tr2"
   ]
  },
  {
   "cell_type": "code",
   "execution_count": 7,
   "id": "098a6f90",
   "metadata": {},
   "outputs": [],
   "source": [
    "tr3=np.array([[2,5,6],[1,0,1]])"
   ]
  },
  {
   "cell_type": "code",
   "execution_count": 8,
   "id": "f039f018",
   "metadata": {},
   "outputs": [
    {
     "data": {
      "text/plain": [
       "array([[2, 5, 6],\n",
       "       [1, 0, 1]])"
      ]
     },
     "execution_count": 8,
     "metadata": {},
     "output_type": "execute_result"
    }
   ],
   "source": [
    "tr3"
   ]
  },
  {
   "cell_type": "raw",
   "id": "578edd26",
   "metadata": {},
   "source": [
    "Array types\n",
    "\n",
    "1)Zero array\n",
    "2)Ones array\n",
    "3)Empty array\n",
    "4)Array for range"
   ]
  },
  {
   "cell_type": "code",
   "execution_count": 9,
   "id": "c0bedf7e",
   "metadata": {},
   "outputs": [],
   "source": [
    "zero_array=np.zeros(2)"
   ]
  },
  {
   "cell_type": "code",
   "execution_count": 10,
   "id": "283ce6dd",
   "metadata": {},
   "outputs": [
    {
     "data": {
      "text/plain": [
       "array([0., 0.])"
      ]
     },
     "execution_count": 10,
     "metadata": {},
     "output_type": "execute_result"
    }
   ],
   "source": [
    "zero_array"
   ]
  },
  {
   "cell_type": "code",
   "execution_count": 11,
   "id": "9696964f",
   "metadata": {},
   "outputs": [],
   "source": [
    "zero_array1=np.zeros((2,2))"
   ]
  },
  {
   "cell_type": "code",
   "execution_count": 12,
   "id": "7ec99057",
   "metadata": {},
   "outputs": [
    {
     "data": {
      "text/plain": [
       "array([[0., 0.],\n",
       "       [0., 0.]])"
      ]
     },
     "execution_count": 12,
     "metadata": {},
     "output_type": "execute_result"
    }
   ],
   "source": [
    "zero_array1"
   ]
  },
  {
   "cell_type": "code",
   "execution_count": 13,
   "id": "11f53739",
   "metadata": {},
   "outputs": [],
   "source": [
    "ones_array=np.ones(2)"
   ]
  },
  {
   "cell_type": "code",
   "execution_count": 14,
   "id": "d05c543e",
   "metadata": {},
   "outputs": [
    {
     "data": {
      "text/plain": [
       "array([1., 1.])"
      ]
     },
     "execution_count": 14,
     "metadata": {},
     "output_type": "execute_result"
    }
   ],
   "source": [
    "ones_array"
   ]
  },
  {
   "cell_type": "code",
   "execution_count": 15,
   "id": "92c15a47",
   "metadata": {},
   "outputs": [],
   "source": [
    "ones_array1=np.ones((2,2))"
   ]
  },
  {
   "cell_type": "code",
   "execution_count": 16,
   "id": "6e1e484d",
   "metadata": {},
   "outputs": [
    {
     "data": {
      "text/plain": [
       "array([[1., 1.],\n",
       "       [1., 1.]])"
      ]
     },
     "execution_count": 16,
     "metadata": {},
     "output_type": "execute_result"
    }
   ],
   "source": [
    "ones_array1"
   ]
  },
  {
   "cell_type": "code",
   "execution_count": 17,
   "id": "8a0f9ba9",
   "metadata": {},
   "outputs": [],
   "source": [
    "ones_array2=np.ones((3,3))"
   ]
  },
  {
   "cell_type": "code",
   "execution_count": 18,
   "id": "38a39d11",
   "metadata": {},
   "outputs": [
    {
     "data": {
      "text/plain": [
       "array([[1., 1., 1.],\n",
       "       [1., 1., 1.],\n",
       "       [1., 1., 1.]])"
      ]
     },
     "execution_count": 18,
     "metadata": {},
     "output_type": "execute_result"
    }
   ],
   "source": [
    "ones_array2"
   ]
  },
  {
   "cell_type": "code",
   "execution_count": 19,
   "id": "295a22c3",
   "metadata": {},
   "outputs": [],
   "source": [
    "tr4=np.arange(4)"
   ]
  },
  {
   "cell_type": "code",
   "execution_count": 20,
   "id": "7c52034e",
   "metadata": {},
   "outputs": [
    {
     "data": {
      "text/plain": [
       "array([0, 1, 2, 3])"
      ]
     },
     "execution_count": 20,
     "metadata": {},
     "output_type": "execute_result"
    }
   ],
   "source": [
    "tr4"
   ]
  },
  {
   "cell_type": "code",
   "execution_count": 21,
   "id": "3e622191",
   "metadata": {},
   "outputs": [],
   "source": [
    "tr5=np.arange(2,40,3)"
   ]
  },
  {
   "cell_type": "code",
   "execution_count": 22,
   "id": "be3cf632",
   "metadata": {},
   "outputs": [
    {
     "data": {
      "text/plain": [
       "array([ 2,  5,  8, 11, 14, 17, 20, 23, 26, 29, 32, 35, 38])"
      ]
     },
     "execution_count": 22,
     "metadata": {},
     "output_type": "execute_result"
    }
   ],
   "source": [
    "tr5"
   ]
  },
  {
   "cell_type": "code",
   "execution_count": 23,
   "id": "594cd74d",
   "metadata": {},
   "outputs": [],
   "source": [
    "tr6=np.transpose(tr3)"
   ]
  },
  {
   "cell_type": "code",
   "execution_count": 24,
   "id": "cbe6b135",
   "metadata": {},
   "outputs": [
    {
     "data": {
      "text/plain": [
       "array([[2, 1],\n",
       "       [5, 0],\n",
       "       [6, 1]])"
      ]
     },
     "execution_count": 24,
     "metadata": {},
     "output_type": "execute_result"
    }
   ],
   "source": [
    "tr6"
   ]
  },
  {
   "cell_type": "code",
   "execution_count": 25,
   "id": "4a93de6e",
   "metadata": {},
   "outputs": [],
   "source": [
    "tr7=np.ravel(tr6)"
   ]
  },
  {
   "cell_type": "code",
   "execution_count": 26,
   "id": "4874c355",
   "metadata": {},
   "outputs": [
    {
     "data": {
      "text/plain": [
       "array([2, 1, 5, 0, 6, 1])"
      ]
     },
     "execution_count": 26,
     "metadata": {},
     "output_type": "execute_result"
    }
   ],
   "source": [
    "tr7"
   ]
  },
  {
   "cell_type": "code",
   "execution_count": 27,
   "id": "9d71ad52",
   "metadata": {},
   "outputs": [],
   "source": [
    "tr1=np.array([1,2])\n",
    "tr2=np.array([3,4])"
   ]
  },
  {
   "cell_type": "code",
   "execution_count": 28,
   "id": "217fd5de",
   "metadata": {},
   "outputs": [
    {
     "data": {
      "text/plain": [
       "array([1, 2])"
      ]
     },
     "execution_count": 28,
     "metadata": {},
     "output_type": "execute_result"
    }
   ],
   "source": [
    "tr1"
   ]
  },
  {
   "cell_type": "code",
   "execution_count": 29,
   "id": "e476cf84",
   "metadata": {},
   "outputs": [
    {
     "data": {
      "text/plain": [
       "array([3, 4])"
      ]
     },
     "execution_count": 29,
     "metadata": {},
     "output_type": "execute_result"
    }
   ],
   "source": [
    "tr2"
   ]
  },
  {
   "cell_type": "code",
   "execution_count": 30,
   "id": "92d174b6",
   "metadata": {},
   "outputs": [],
   "source": [
    "concat=np.concatenate((tr1,tr2))"
   ]
  },
  {
   "cell_type": "code",
   "execution_count": 31,
   "id": "59d33ef6",
   "metadata": {},
   "outputs": [
    {
     "data": {
      "text/plain": [
       "array([1, 2, 3, 4])"
      ]
     },
     "execution_count": 31,
     "metadata": {},
     "output_type": "execute_result"
    }
   ],
   "source": [
    "concat"
   ]
  },
  {
   "cell_type": "code",
   "execution_count": 32,
   "id": "7a42eb00",
   "metadata": {},
   "outputs": [],
   "source": [
    "hori=np.hstack((tr1,tr2))"
   ]
  },
  {
   "cell_type": "code",
   "execution_count": 33,
   "id": "9e7e5373",
   "metadata": {
    "scrolled": true
   },
   "outputs": [
    {
     "data": {
      "text/plain": [
       "array([1, 2, 3, 4])"
      ]
     },
     "execution_count": 33,
     "metadata": {},
     "output_type": "execute_result"
    }
   ],
   "source": [
    "hori"
   ]
  },
  {
   "cell_type": "code",
   "execution_count": 34,
   "id": "b9fca20b",
   "metadata": {},
   "outputs": [],
   "source": [
    "vert=np.vstack((tr1,tr2))"
   ]
  },
  {
   "cell_type": "code",
   "execution_count": 35,
   "id": "f7a314bd",
   "metadata": {
    "scrolled": true
   },
   "outputs": [
    {
     "data": {
      "text/plain": [
       "array([[1, 2],\n",
       "       [3, 4]])"
      ]
     },
     "execution_count": 35,
     "metadata": {},
     "output_type": "execute_result"
    }
   ],
   "source": [
    "vert"
   ]
  },
  {
   "cell_type": "code",
   "execution_count": 81,
   "id": "dd3b447c",
   "metadata": {},
   "outputs": [],
   "source": [
    "mat1=np.array([[1,2,3],[4,5,6],[5,8,9]])"
   ]
  },
  {
   "cell_type": "code",
   "execution_count": 82,
   "id": "56d665f3",
   "metadata": {},
   "outputs": [
    {
     "data": {
      "text/plain": [
       "array([[1, 2, 3],\n",
       "       [4, 5, 6],\n",
       "       [5, 8, 9]])"
      ]
     },
     "execution_count": 82,
     "metadata": {},
     "output_type": "execute_result"
    }
   ],
   "source": [
    "mat1"
   ]
  },
  {
   "cell_type": "code",
   "execution_count": 83,
   "id": "65ee0e69",
   "metadata": {},
   "outputs": [],
   "source": [
    "det_of_mat1=np.linalg.det(mat1)"
   ]
  },
  {
   "cell_type": "code",
   "execution_count": 84,
   "id": "f3d9b8a9",
   "metadata": {},
   "outputs": [
    {
     "data": {
      "text/plain": [
       "6.000000000000001"
      ]
     },
     "execution_count": 84,
     "metadata": {},
     "output_type": "execute_result"
    }
   ],
   "source": [
    "det_of_mat1"
   ]
  },
  {
   "cell_type": "code",
   "execution_count": 85,
   "id": "f819f61a",
   "metadata": {},
   "outputs": [],
   "source": [
    "inverse=np.linalg.inv(mat1)"
   ]
  },
  {
   "cell_type": "code",
   "execution_count": 86,
   "id": "005e73d8",
   "metadata": {},
   "outputs": [
    {
     "data": {
      "text/plain": [
       "array([[-0.5       ,  1.        , -0.5       ],\n",
       "       [-1.        , -1.        ,  1.        ],\n",
       "       [ 1.16666667,  0.33333333, -0.5       ]])"
      ]
     },
     "execution_count": 86,
     "metadata": {},
     "output_type": "execute_result"
    }
   ],
   "source": [
    "inverse"
   ]
  },
  {
   "cell_type": "code",
   "execution_count": 87,
   "id": "35c5e8a9",
   "metadata": {},
   "outputs": [],
   "source": [
    "Dense=np.array([[2,0,4,0],[0,7,0,0],[2,4,6,0],[0,4,4,0]])"
   ]
  },
  {
   "cell_type": "code",
   "execution_count": 88,
   "id": "2d84760b",
   "metadata": {},
   "outputs": [
    {
     "data": {
      "text/plain": [
       "array([[2, 0, 4, 0],\n",
       "       [0, 7, 0, 0],\n",
       "       [2, 4, 6, 0],\n",
       "       [0, 4, 4, 0]])"
      ]
     },
     "execution_count": 88,
     "metadata": {},
     "output_type": "execute_result"
    }
   ],
   "source": [
    "Dense"
   ]
  },
  {
   "cell_type": "code",
   "execution_count": 89,
   "id": "6e0d5cd0",
   "metadata": {},
   "outputs": [],
   "source": [
    "from scipy.sparse import csr_matrix"
   ]
  },
  {
   "cell_type": "code",
   "execution_count": 91,
   "id": "62c408c7",
   "metadata": {},
   "outputs": [],
   "source": [
    "sparse=csr_matrix(Dense)"
   ]
  },
  {
   "cell_type": "code",
   "execution_count": 92,
   "id": "ee2f8b38",
   "metadata": {},
   "outputs": [
    {
     "data": {
      "text/plain": [
       "<4x4 sparse matrix of type '<class 'numpy.intc'>'\n",
       "\twith 8 stored elements in Compressed Sparse Row format>"
      ]
     },
     "execution_count": 92,
     "metadata": {},
     "output_type": "execute_result"
    }
   ],
   "source": [
    "sparse"
   ]
  },
  {
   "cell_type": "code",
   "execution_count": 93,
   "id": "a7586025",
   "metadata": {},
   "outputs": [
    {
     "name": "stdout",
     "output_type": "stream",
     "text": [
      "  (0, 0)\t2\n",
      "  (0, 2)\t4\n",
      "  (1, 1)\t7\n",
      "  (2, 0)\t2\n",
      "  (2, 1)\t4\n",
      "  (2, 2)\t6\n",
      "  (3, 1)\t4\n",
      "  (3, 2)\t4\n"
     ]
    }
   ],
   "source": [
    "print(sparse)"
   ]
  },
  {
   "cell_type": "code",
   "execution_count": null,
   "id": "43aee5fd",
   "metadata": {},
   "outputs": [],
   "source": []
  }
 ],
 "metadata": {
  "kernelspec": {
   "display_name": "Python 3 (ipykernel)",
   "language": "python",
   "name": "python3"
  },
  "language_info": {
   "codemirror_mode": {
    "name": "ipython",
    "version": 3
   },
   "file_extension": ".py",
   "mimetype": "text/x-python",
   "name": "python",
   "nbconvert_exporter": "python",
   "pygments_lexer": "ipython3",
   "version": "3.11.5"
  }
 },
 "nbformat": 4,
 "nbformat_minor": 5
}
