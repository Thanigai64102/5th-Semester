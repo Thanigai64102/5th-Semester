{
 "cells": [
  {
   "cell_type": "code",
   "execution_count": null,
   "id": "cc58d025",
   "metadata": {},
   "outputs": [],
   "source": [
    "pip install pandas"
   ]
  },
  {
   "cell_type": "code",
   "execution_count": null,
   "id": "613acb28",
   "metadata": {},
   "outputs": [],
   "source": [
    "pip install --upgrade pandas --user"
   ]
  },
  {
   "cell_type": "code",
   "execution_count": 1,
   "id": "bfafeb27",
   "metadata": {},
   "outputs": [],
   "source": [
    "import pandas as pd"
   ]
  },
  {
   "cell_type": "code",
   "execution_count": 2,
   "id": "872d860b",
   "metadata": {},
   "outputs": [
    {
     "data": {
      "text/plain": [
       "'2.2.2'"
      ]
     },
     "execution_count": 2,
     "metadata": {},
     "output_type": "execute_result"
    }
   ],
   "source": [
    "pd.__version__"
   ]
  },
  {
   "cell_type": "code",
   "execution_count": 3,
   "id": "7d3ba5ee",
   "metadata": {},
   "outputs": [],
   "source": [
    "import numpy as np"
   ]
  },
  {
   "cell_type": "code",
   "execution_count": 4,
   "id": "d484d4a7",
   "metadata": {
    "scrolled": true
   },
   "outputs": [
    {
     "name": "stdout",
     "output_type": "stream",
     "text": [
      "Requirement already satisfied: numpy in c:\\users\\admin\\anaconda3\\envs\\aiml\\lib\\site-packages (1.26.0)\n",
      "Collecting numpy\n",
      "  Obtaining dependency information for numpy from https://files.pythonhosted.org/packages/3d/67/928e8f0d5c7fd32f32fb5caf92b186a1b3826dbaf5a294e13a976d6c38b6/numpy-2.0.1-cp311-cp311-win_amd64.whl.metadata\n",
      "  Downloading numpy-2.0.1-cp311-cp311-win_amd64.whl.metadata (60 kB)\n",
      "     ---------------------------------------- 0.0/60.9 kB ? eta -:--:--\n",
      "     ------ --------------------------------- 10.2/60.9 kB ? eta -:--:--\n",
      "     ------------------------- ------------ 41.0/60.9 kB 393.8 kB/s eta 0:00:01\n",
      "     -------------------------------------- 60.9/60.9 kB 359.3 kB/s eta 0:00:00\n",
      "Downloading numpy-2.0.1-cp311-cp311-win_amd64.whl (16.6 MB)\n",
      "   ---------------------------------------- 0.0/16.6 MB ? eta -:--:--\n",
      "    --------------------------------------- 0.2/16.6 MB 7.6 MB/s eta 0:00:03\n",
      "   - -------------------------------------- 0.5/16.6 MB 5.9 MB/s eta 0:00:03\n",
      "   - -------------------------------------- 0.8/16.6 MB 6.9 MB/s eta 0:00:03\n",
      "   -- ------------------------------------- 1.1/16.6 MB 6.8 MB/s eta 0:00:03\n",
      "   --- ------------------------------------ 1.4/16.6 MB 7.0 MB/s eta 0:00:03\n",
      "   ---- ----------------------------------- 1.9/16.6 MB 7.9 MB/s eta 0:00:02\n",
      "   ----- ---------------------------------- 2.4/16.6 MB 8.3 MB/s eta 0:00:02\n",
      "   ------- -------------------------------- 2.9/16.6 MB 9.4 MB/s eta 0:00:02\n",
      "   -------- ------------------------------- 3.6/16.6 MB 10.0 MB/s eta 0:00:02\n",
      "   ---------- ----------------------------- 4.3/16.6 MB 10.5 MB/s eta 0:00:02\n",
      "   ------------ --------------------------- 5.0/16.6 MB 11.5 MB/s eta 0:00:01\n",
      "   -------------- ------------------------- 5.8/16.6 MB 12.0 MB/s eta 0:00:01\n",
      "   --------------- ------------------------ 6.6/16.6 MB 12.7 MB/s eta 0:00:01\n",
      "   ----------------- ---------------------- 7.3/16.6 MB 13.0 MB/s eta 0:00:01\n",
      "   ------------------- -------------------- 8.1/16.6 MB 13.6 MB/s eta 0:00:01\n",
      "   --------------------- ------------------ 8.8/16.6 MB 13.8 MB/s eta 0:00:01\n",
      "   ----------------------- ---------------- 9.6/16.6 MB 13.9 MB/s eta 0:00:01\n",
      "   ------------------------ --------------- 10.3/16.6 MB 14.2 MB/s eta 0:00:01\n",
      "   -------------------------- ------------- 11.1/16.6 MB 16.4 MB/s eta 0:00:01\n",
      "   ---------------------------- ----------- 11.8/16.6 MB 17.7 MB/s eta 0:00:01\n",
      "   ------------------------------ --------- 12.6/16.6 MB 18.2 MB/s eta 0:00:01\n",
      "   -------------------------------- ------- 13.4/16.6 MB 19.2 MB/s eta 0:00:01\n",
      "   ---------------------------------- ----- 14.1/16.6 MB 18.7 MB/s eta 0:00:01\n",
      "   ----------------------------------- ---- 14.9/16.6 MB 18.7 MB/s eta 0:00:01\n",
      "   ------------------------------------- -- 15.6/16.6 MB 18.7 MB/s eta 0:00:01\n",
      "   ---------------------------------------  16.4/16.6 MB 18.7 MB/s eta 0:00:01\n",
      "   ---------------------------------------  16.6/16.6 MB 19.3 MB/s eta 0:00:01\n",
      "   ---------------------------------------  16.6/16.6 MB 19.3 MB/s eta 0:00:01\n",
      "   ---------------------------------------  16.6/16.6 MB 19.3 MB/s eta 0:00:01\n",
      "   ---------------------------------------  16.6/16.6 MB 19.3 MB/s eta 0:00:01\n",
      "   ---------------------------------------  16.6/16.6 MB 19.3 MB/s eta 0:00:01\n",
      "   ---------------------------------------  16.6/16.6 MB 19.3 MB/s eta 0:00:01\n",
      "   ---------------------------------------- 16.6/16.6 MB 12.6 MB/s eta 0:00:00\n",
      "Installing collected packages: numpy\n",
      "Successfully installed numpy-2.0.1\n",
      "Note: you may need to restart the kernel to use updated packages.\n"
     ]
    },
    {
     "name": "stderr",
     "output_type": "stream",
     "text": [
      "  WARNING: The scripts f2py.exe and numpy-config.exe are installed in 'C:\\Users\\Admin\\AppData\\Roaming\\Python\\Python311\\Scripts' which is not on PATH.\n",
      "  Consider adding this directory to PATH or, if you prefer to suppress this warning, use --no-warn-script-location.\n",
      "ERROR: pip's dependency resolver does not currently take into account all the packages that are installed. This behaviour is the source of the following dependency conflicts.\n",
      "apricot-select 0.6.1 requires numba>=0.43.0, which is not installed.\n",
      "apricot-select 0.6.1 requires tqdm>=4.24.0, which is not installed.\n",
      "contourpy 1.1.1 requires numpy<2.0,>=1.16; python_version <= \"3.11\", but you have numpy 2.0.1 which is incompatible.\n",
      "matplotlib 3.8.0 requires numpy<2,>=1.21, but you have numpy 2.0.1 which is incompatible.\n",
      "scikit-learn 1.4.1.post1 requires numpy<2.0,>=1.19.5, but you have numpy 2.0.1 which is incompatible.\n",
      "scipy 1.11.3 requires numpy<1.28.0,>=1.21.6, but you have numpy 2.0.1 which is incompatible.\n"
     ]
    }
   ],
   "source": [
    "pip install --upgrade numpy --user"
   ]
  },
  {
   "cell_type": "code",
   "execution_count": 5,
   "id": "c3b6a674",
   "metadata": {},
   "outputs": [
    {
     "data": {
      "text/plain": [
       "'1.26.0'"
      ]
     },
     "execution_count": 5,
     "metadata": {},
     "output_type": "execute_result"
    }
   ],
   "source": [
    "np.__version__"
   ]
  },
  {
   "cell_type": "code",
   "execution_count": 9,
   "id": "4d2254cd",
   "metadata": {},
   "outputs": [],
   "source": [
    "s1=pd.Series([1,2,3,4,'five'],index=['a','b','c','d','e']),"
   ]
  },
  {
   "cell_type": "code",
   "execution_count": 10,
   "id": "af9c2741",
   "metadata": {},
   "outputs": [
    {
     "name": "stdout",
     "output_type": "stream",
     "text": [
      "(a       1\n",
      "b       2\n",
      "c       3\n",
      "d       4\n",
      "e    five\n",
      "dtype: object,)\n"
     ]
    }
   ],
   "source": [
    "print(s1)"
   ]
  },
  {
   "cell_type": "code",
   "execution_count": 13,
   "id": "170a3cde",
   "metadata": {},
   "outputs": [],
   "source": [
    "s2=pd.Series([\"Python\",\"C++\",\"HTML\",\"SQL\",\"JAVA\"],index=[1,2,3,4,5])"
   ]
  },
  {
   "cell_type": "code",
   "execution_count": 14,
   "id": "8faf04aa",
   "metadata": {},
   "outputs": [
    {
     "data": {
      "text/plain": [
       "1    Python\n",
       "2       C++\n",
       "3      HTML\n",
       "4       SQL\n",
       "5      JAVA\n",
       "dtype: object"
      ]
     },
     "execution_count": 14,
     "metadata": {},
     "output_type": "execute_result"
    }
   ],
   "source": [
    "s2"
   ]
  },
  {
   "cell_type": "code",
   "execution_count": null,
   "id": "bbfb23ee",
   "metadata": {},
   "outputs": [],
   "source": [
    "s3=pd.Series"
   ]
  },
  {
   "cell_type": "markdown",
   "id": "0cace7be",
   "metadata": {},
   "source": [
    "# DATA FRAME"
   ]
  },
  {
   "cell_type": "markdown",
   "id": "353f7c51",
   "metadata": {},
   "source": [
    "variable_name=pd.DataFrame(data,column=[column name])"
   ]
  },
  {
   "cell_type": "code",
   "execution_count": 16,
   "id": "f80337b6",
   "metadata": {},
   "outputs": [],
   "source": [
    "df1=pd.DataFrame((s1,s2),columns=[]"
   ]
  },
  {
   "cell_type": "code",
   "execution_count": 17,
   "id": "93587e2c",
   "metadata": {},
   "outputs": [
    {
     "data": {
      "text/html": [
       "<div>\n",
       "<style scoped>\n",
       "    .dataframe tbody tr th:only-of-type {\n",
       "        vertical-align: middle;\n",
       "    }\n",
       "\n",
       "    .dataframe tbody tr th {\n",
       "        vertical-align: top;\n",
       "    }\n",
       "\n",
       "    .dataframe thead th {\n",
       "        text-align: right;\n",
       "    }\n",
       "</style>\n",
       "<table border=\"1\" class=\"dataframe\">\n",
       "  <thead>\n",
       "    <tr style=\"text-align: right;\">\n",
       "      <th></th>\n",
       "      <th>0</th>\n",
       "    </tr>\n",
       "  </thead>\n",
       "  <tbody>\n",
       "    <tr>\n",
       "      <th>0</th>\n",
       "      <td>a       1\n",
       "b       2\n",
       "c       3\n",
       "d       4\n",
       "e    f...</td>\n",
       "    </tr>\n",
       "  </tbody>\n",
       "</table>\n",
       "</div>"
      ],
      "text/plain": [
       "                                                   0\n",
       "0  a       1\n",
       "b       2\n",
       "c       3\n",
       "d       4\n",
       "e    f..."
      ]
     },
     "execution_count": 17,
     "metadata": {},
     "output_type": "execute_result"
    }
   ],
   "source": [
    "df1"
   ]
  },
  {
   "cell_type": "code",
   "execution_count": null,
   "id": "a68c4cd5",
   "metadata": {},
   "outputs": [],
   "source": [
    "    "
   ]
  }
 ],
 "metadata": {
  "kernelspec": {
   "display_name": "Python 3 (ipykernel)",
   "language": "python",
   "name": "python3"
  },
  "language_info": {
   "codemirror_mode": {
    "name": "ipython",
    "version": 3
   },
   "file_extension": ".py",
   "mimetype": "text/x-python",
   "name": "python",
   "nbconvert_exporter": "python",
   "pygments_lexer": "ipython3",
   "version": "3.11.5"
  }
 },
 "nbformat": 4,
 "nbformat_minor": 5
}
